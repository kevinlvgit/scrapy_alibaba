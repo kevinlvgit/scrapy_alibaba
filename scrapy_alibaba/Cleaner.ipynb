{
 "cells": [
  {
   "cell_type": "code",
   "execution_count": 1,
   "metadata": {},
   "outputs": [],
   "source": [
    "import pandas as pd"
   ]
  },
  {
   "cell_type": "code",
   "execution_count": 9,
   "metadata": {},
   "outputs": [
    {
     "name": "stderr",
     "output_type": "stream",
     "text": [
      "/Users/swang/anaconda3/lib/python3.6/site-packages/IPython/core/interactiveshell.py:3020: DtypeWarning: Columns (4) have mixed types. Specify dtype option on import or set low_memory=False.\n",
      "  interactivity=interactivity, compiler=compiler, result=result)\n"
     ]
    }
   ],
   "source": [
    "df = pd.read_csv('/Users/swang/scrapy_alibaba/Scrapy Data/supplier_name_all_clean.csv')"
   ]
  },
  {
   "cell_type": "code",
   "execution_count": 10,
   "metadata": {},
   "outputs": [
    {
     "data": {
      "text/html": [
       "<div>\n",
       "<style scoped>\n",
       "    .dataframe tbody tr th:only-of-type {\n",
       "        vertical-align: middle;\n",
       "    }\n",
       "\n",
       "    .dataframe tbody tr th {\n",
       "        vertical-align: top;\n",
       "    }\n",
       "\n",
       "    .dataframe thead th {\n",
       "        text-align: right;\n",
       "    }\n",
       "</style>\n",
       "<table border=\"1\" class=\"dataframe\">\n",
       "  <thead>\n",
       "    <tr style=\"text-align: right;\">\n",
       "      <th></th>\n",
       "      <th>Unnamed: 0</th>\n",
       "      <th>business_supplier</th>\n",
       "      <th>contacts_url</th>\n",
       "      <th>gold_status</th>\n",
       "      <th>gold_years</th>\n",
       "      <th>main_products</th>\n",
       "      <th>supplier_url</th>\n",
       "    </tr>\n",
       "  </thead>\n",
       "  <tbody>\n",
       "    <tr>\n",
       "      <th>0</th>\n",
       "      <td>0</td>\n",
       "      <td>Dalian Holy Trading Co., Ltd.</td>\n",
       "      <td>holyart.en.alibaba.com/contactinfo.html</td>\n",
       "      <td>Gold Supplier</td>\n",
       "      <td>6</td>\n",
       "      <td>glass, plastic, metal, christmas, cup</td>\n",
       "      <td>holyart.en.alibaba.com/company_profile.html#to...</td>\n",
       "    </tr>\n",
       "    <tr>\n",
       "      <th>1</th>\n",
       "      <td>1</td>\n",
       "      <td>Ronix (Zhangjiagang Bonded Area) Trading Co., ...</td>\n",
       "      <td>ronixtools.en.alibaba.com/contactinfo.html</td>\n",
       "      <td>Supplier</td>\n",
       "      <td>4</td>\n",
       "      <td>Power Tools, Massage Tools, Cordless Screwdriv...</td>\n",
       "      <td>ronixtools.en.alibaba.com/company_profile.html...</td>\n",
       "    </tr>\n",
       "    <tr>\n",
       "      <th>2</th>\n",
       "      <td>2</td>\n",
       "      <td>Shanghai UB Machinery Co., Ltd.</td>\n",
       "      <td>shyoubai.en.alibaba.com/contactinfo.html</td>\n",
       "      <td>Gold Supplier</td>\n",
       "      <td>12</td>\n",
       "      <td>Torque Tools (Mechanical Torque Wrench, Electr...</td>\n",
       "      <td>shyoubai.en.alibaba.com/company_profile.html#t...</td>\n",
       "    </tr>\n",
       "    <tr>\n",
       "      <th>3</th>\n",
       "      <td>3</td>\n",
       "      <td>Suzhou Matthew Consultation Ltd.</td>\n",
       "      <td>matthewtool.en.alibaba.com/contactinfo.html</td>\n",
       "      <td>Gold Supplier</td>\n",
       "      <td>3</td>\n",
       "      <td>Woodworking clamps, Caulking Guns, Garden Tool...</td>\n",
       "      <td>matthewtool.en.alibaba.com/company_profile.htm...</td>\n",
       "    </tr>\n",
       "    <tr>\n",
       "      <th>4</th>\n",
       "      <td>4</td>\n",
       "      <td>Cixi Modern Electric Industrialist Co., Ltd.</td>\n",
       "      <td>modern-china.en.alibaba.com/contactinfo.html</td>\n",
       "      <td>Supplier</td>\n",
       "      <td>11</td>\n",
       "      <td>Car accessories (Snow brush, Ice scraper, Snow...</td>\n",
       "      <td>modern-china.en.alibaba.com/company_profile.ht...</td>\n",
       "    </tr>\n",
       "  </tbody>\n",
       "</table>\n",
       "</div>"
      ],
      "text/plain": [
       "   Unnamed: 0                                  business_supplier  \\\n",
       "0           0                      Dalian Holy Trading Co., Ltd.   \n",
       "1           1  Ronix (Zhangjiagang Bonded Area) Trading Co., ...   \n",
       "2           2                    Shanghai UB Machinery Co., Ltd.   \n",
       "3           3                   Suzhou Matthew Consultation Ltd.   \n",
       "4           4       Cixi Modern Electric Industrialist Co., Ltd.   \n",
       "\n",
       "                                   contacts_url    gold_status gold_years  \\\n",
       "0       holyart.en.alibaba.com/contactinfo.html  Gold Supplier          6   \n",
       "1    ronixtools.en.alibaba.com/contactinfo.html       Supplier          4   \n",
       "2      shyoubai.en.alibaba.com/contactinfo.html  Gold Supplier         12   \n",
       "3   matthewtool.en.alibaba.com/contactinfo.html  Gold Supplier          3   \n",
       "4  modern-china.en.alibaba.com/contactinfo.html       Supplier         11   \n",
       "\n",
       "                                       main_products  \\\n",
       "0              glass, plastic, metal, christmas, cup   \n",
       "1  Power Tools, Massage Tools, Cordless Screwdriv...   \n",
       "2  Torque Tools (Mechanical Torque Wrench, Electr...   \n",
       "3  Woodworking clamps, Caulking Guns, Garden Tool...   \n",
       "4  Car accessories (Snow brush, Ice scraper, Snow...   \n",
       "\n",
       "                                        supplier_url  \n",
       "0  holyart.en.alibaba.com/company_profile.html#to...  \n",
       "1  ronixtools.en.alibaba.com/company_profile.html...  \n",
       "2  shyoubai.en.alibaba.com/company_profile.html#t...  \n",
       "3  matthewtool.en.alibaba.com/company_profile.htm...  \n",
       "4  modern-china.en.alibaba.com/company_profile.ht...  "
      ]
     },
     "execution_count": 10,
     "metadata": {},
     "output_type": "execute_result"
    }
   ],
   "source": [
    "df.head()"
   ]
  },
  {
   "cell_type": "code",
   "execution_count": 11,
   "metadata": {},
   "outputs": [],
   "source": [
    "df['contacts_url'] = 'https://'+df['contacts_url'].astype(str)\n",
    "df['supplier_url'] = 'https://'+df['supplier_url'].astype(str)"
   ]
  },
  {
   "cell_type": "code",
   "execution_count": 12,
   "metadata": {},
   "outputs": [],
   "source": [
    "del df['Unnamed: 0']"
   ]
  },
  {
   "cell_type": "code",
   "execution_count": 13,
   "metadata": {},
   "outputs": [
    {
     "name": "stdout",
     "output_type": "stream",
     "text": [
      "<class 'pandas.core.frame.DataFrame'>\n",
      "RangeIndex: 212744 entries, 0 to 212743\n",
      "Data columns (total 6 columns):\n",
      "business_supplier    212740 non-null object\n",
      "contacts_url         212744 non-null object\n",
      "gold_status          212744 non-null object\n",
      "gold_years           212744 non-null object\n",
      "main_products        212744 non-null object\n",
      "supplier_url         212744 non-null object\n",
      "dtypes: object(6)\n",
      "memory usage: 9.7+ MB\n"
     ]
    }
   ],
   "source": [
    "df.info()"
   ]
  },
  {
   "cell_type": "code",
   "execution_count": 14,
   "metadata": {},
   "outputs": [
    {
     "data": {
      "text/html": [
       "<div>\n",
       "<style scoped>\n",
       "    .dataframe tbody tr th:only-of-type {\n",
       "        vertical-align: middle;\n",
       "    }\n",
       "\n",
       "    .dataframe tbody tr th {\n",
       "        vertical-align: top;\n",
       "    }\n",
       "\n",
       "    .dataframe thead th {\n",
       "        text-align: right;\n",
       "    }\n",
       "</style>\n",
       "<table border=\"1\" class=\"dataframe\">\n",
       "  <thead>\n",
       "    <tr style=\"text-align: right;\">\n",
       "      <th></th>\n",
       "      <th>business_supplier</th>\n",
       "      <th>contacts_url</th>\n",
       "      <th>gold_status</th>\n",
       "      <th>gold_years</th>\n",
       "      <th>main_products</th>\n",
       "      <th>supplier_url</th>\n",
       "    </tr>\n",
       "  </thead>\n",
       "  <tbody>\n",
       "    <tr>\n",
       "      <th>0</th>\n",
       "      <td>Dalian Holy Trading Co., Ltd.</td>\n",
       "      <td>https://holyart.en.alibaba.com/contactinfo.html</td>\n",
       "      <td>Gold Supplier</td>\n",
       "      <td>6</td>\n",
       "      <td>glass, plastic, metal, christmas, cup</td>\n",
       "      <td>https://holyart.en.alibaba.com/company_profile...</td>\n",
       "    </tr>\n",
       "    <tr>\n",
       "      <th>1</th>\n",
       "      <td>Ronix (Zhangjiagang Bonded Area) Trading Co., ...</td>\n",
       "      <td>https://ronixtools.en.alibaba.com/contactinfo....</td>\n",
       "      <td>Supplier</td>\n",
       "      <td>4</td>\n",
       "      <td>Power Tools, Massage Tools, Cordless Screwdriv...</td>\n",
       "      <td>https://ronixtools.en.alibaba.com/company_prof...</td>\n",
       "    </tr>\n",
       "    <tr>\n",
       "      <th>2</th>\n",
       "      <td>Shanghai UB Machinery Co., Ltd.</td>\n",
       "      <td>https://shyoubai.en.alibaba.com/contactinfo.html</td>\n",
       "      <td>Gold Supplier</td>\n",
       "      <td>12</td>\n",
       "      <td>Torque Tools (Mechanical Torque Wrench, Electr...</td>\n",
       "      <td>https://shyoubai.en.alibaba.com/company_profil...</td>\n",
       "    </tr>\n",
       "    <tr>\n",
       "      <th>3</th>\n",
       "      <td>Suzhou Matthew Consultation Ltd.</td>\n",
       "      <td>https://matthewtool.en.alibaba.com/contactinfo...</td>\n",
       "      <td>Gold Supplier</td>\n",
       "      <td>3</td>\n",
       "      <td>Woodworking clamps, Caulking Guns, Garden Tool...</td>\n",
       "      <td>https://matthewtool.en.alibaba.com/company_pro...</td>\n",
       "    </tr>\n",
       "    <tr>\n",
       "      <th>4</th>\n",
       "      <td>Cixi Modern Electric Industrialist Co., Ltd.</td>\n",
       "      <td>https://modern-china.en.alibaba.com/contactinf...</td>\n",
       "      <td>Supplier</td>\n",
       "      <td>11</td>\n",
       "      <td>Car accessories (Snow brush, Ice scraper, Snow...</td>\n",
       "      <td>https://modern-china.en.alibaba.com/company_pr...</td>\n",
       "    </tr>\n",
       "  </tbody>\n",
       "</table>\n",
       "</div>"
      ],
      "text/plain": [
       "                                   business_supplier  \\\n",
       "0                      Dalian Holy Trading Co., Ltd.   \n",
       "1  Ronix (Zhangjiagang Bonded Area) Trading Co., ...   \n",
       "2                    Shanghai UB Machinery Co., Ltd.   \n",
       "3                   Suzhou Matthew Consultation Ltd.   \n",
       "4       Cixi Modern Electric Industrialist Co., Ltd.   \n",
       "\n",
       "                                        contacts_url    gold_status  \\\n",
       "0    https://holyart.en.alibaba.com/contactinfo.html  Gold Supplier   \n",
       "1  https://ronixtools.en.alibaba.com/contactinfo....       Supplier   \n",
       "2   https://shyoubai.en.alibaba.com/contactinfo.html  Gold Supplier   \n",
       "3  https://matthewtool.en.alibaba.com/contactinfo...  Gold Supplier   \n",
       "4  https://modern-china.en.alibaba.com/contactinf...       Supplier   \n",
       "\n",
       "  gold_years                                      main_products  \\\n",
       "0          6              glass, plastic, metal, christmas, cup   \n",
       "1          4  Power Tools, Massage Tools, Cordless Screwdriv...   \n",
       "2         12  Torque Tools (Mechanical Torque Wrench, Electr...   \n",
       "3          3  Woodworking clamps, Caulking Guns, Garden Tool...   \n",
       "4         11  Car accessories (Snow brush, Ice scraper, Snow...   \n",
       "\n",
       "                                        supplier_url  \n",
       "0  https://holyart.en.alibaba.com/company_profile...  \n",
       "1  https://ronixtools.en.alibaba.com/company_prof...  \n",
       "2  https://shyoubai.en.alibaba.com/company_profil...  \n",
       "3  https://matthewtool.en.alibaba.com/company_pro...  \n",
       "4  https://modern-china.en.alibaba.com/company_pr...  "
      ]
     },
     "execution_count": 14,
     "metadata": {},
     "output_type": "execute_result"
    }
   ],
   "source": [
    "df.head()"
   ]
  },
  {
   "cell_type": "code",
   "execution_count": 15,
   "metadata": {},
   "outputs": [],
   "source": [
    "df.to_csv(r'/Users/swang/scrapy_alibaba/Scrapy Data/supplier_names_https.csv')"
   ]
  },
  {
   "cell_type": "code",
   "execution_count": null,
   "metadata": {},
   "outputs": [],
   "source": []
  }
 ],
 "metadata": {
  "kernelspec": {
   "display_name": "Python 3",
   "language": "python",
   "name": "python3"
  },
  "language_info": {
   "codemirror_mode": {
    "name": "ipython",
    "version": 3
   },
   "file_extension": ".py",
   "mimetype": "text/x-python",
   "name": "python",
   "nbconvert_exporter": "python",
   "pygments_lexer": "ipython3",
   "version": "3.6.8"
  }
 },
 "nbformat": 4,
 "nbformat_minor": 4
}
