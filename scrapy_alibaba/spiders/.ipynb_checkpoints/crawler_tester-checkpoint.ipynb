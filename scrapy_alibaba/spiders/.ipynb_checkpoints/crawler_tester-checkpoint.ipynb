{
 "cells": [
  {
   "cell_type": "code",
   "execution_count": 13,
   "metadata": {},
   "outputs": [],
   "source": [
    "import scrapy\n",
    "import csv\n",
    "import os\n",
    "from scrapy.crawler import CrawlerProcess"
   ]
  },
  {
   "cell_type": "code",
   "execution_count": 11,
   "metadata": {},
   "outputs": [],
   "source": [
    "class AlibabaCrawlerSpider(scrapy.Spider):\n",
    "    name = 'alibaba_crawl_copy'\n",
    "    #allowed_domains = ['alibaba.com']\n",
    "    #start_urls = ['https://www.alibaba.com/trade/search?fsb=y&IndexArea=product_en&CatId=&SearchText=headphones&viewtype=G&tab=']\n",
    "    \n",
    "    #search_text = \"headphones\"\n",
    "    \n",
    "    #def start_requests(self):\n",
    "    #Read keywords from keywords file and construct the search URL\n",
    "    # The meta is used to send our search text into the parser as metadata\n",
    "       # start_urls = 'https://www.alibaba.com/trade/search?fsb=y&IndexArea=product_en&CatId=&SearchText=headphones&viewtype=G&tab='\n",
    "       # search_text = \"headphones\"\n",
    "       # url = start_urls\n",
    "       # yield scrapy.Request(url, callback = self.parse, meta = {\"search_text\": search_text})\n",
    "    \n",
    "    def start_requests(self):\n",
    "        urls = ['https://www.alibaba.com/trade/search?fsb=y&IndexArea=product_en&CatId=&SearchText=headphones&viewtype=G&tab=']\n",
    "        for url in urls:\n",
    "            yield scrapy.Request(url = url, callback = self.parse)\n",
    "            \n",
    "            \n",
    "          \n",
    "       \n",
    "    \n",
    "    \n",
    "    def parse(self, response):\n",
    "        \"\"\"Function to process alibaba search results page\"\"\"\n",
    "        #search_keyword = response.meta[\"search_text\"]\n",
    "        parser = scrapy.Selector(response)\n",
    "        products = parser.xpath(\"//div[@class='item-main']\")\n",
    "    \n",
    "        #iterating over search results  \n",
    "        for product in products:\n",
    "        #Defining the XPaths\n",
    "            XPATH_PRODUCT_NAME = \".//div[@class='item-info']//h2[contains(@class,'title')]//a/@title\"\n",
    "            XPATH_PRODUCT_PRICE =  \".//div[@class='item-info']//div[@class='price']/b/text()\"\n",
    "            XPATH_PRODUCT_MIN_ORDER = \".//div[@class='item-info']//div[@class='min-order']/b/text()\"\n",
    "            XPATH_SELLER_YEARS = \".//div[@class='item-info']//div[@class='stitle']//div[contains(@class,'s-gold-supplier-year-icon')]//text()\"\n",
    "            XPATH_SUPPLIER = \".//div[@class='item-info']//div[@class='stitle']//a/@title\"\n",
    "            XPATH_SELLER_RESPONSE_RATE = \".//div[@class='item-info']//div[@class='sstitle']//div[@class='num']/i/text()\"\n",
    "            XPATH_TRANSACTION_LEVEL = \".//div[@class='item-info']//div[@class='sstitle']//a[@class='diamond-level-group']//i[contains(@class,'diamond-level-one')]\"\n",
    "            XPATH_TRANSACTION_LEVEL_FRACTION = \".//div[@class='item-info']//div[@class='sstitle']//a[@class='diamond-level-group']//i[contains(@class,'diamond-level-half-filled')]\"        \n",
    "            XPATH_PRODUCT_LINK = \".//div[@class='item-info']//h2/a/@href\"\n",
    "            \n",
    "        \n",
    "\n",
    "            raw_product_name = products.xpath(XPATH_PRODUCT_NAME).extract()\n",
    "            raw_product_price = products.xpath(XPATH_PRODUCT_PRICE).extract_first().strip()\n",
    "            raw_minimum_order = products.xpath(XPATH_PRODUCT_MIN_ORDER).extract()\n",
    "            raw_seller_years = products.xpath(XPATH_SELLER_YEARS).extract_first()\n",
    "            raw_supplier_name = products.xpath(XPATH_SUPPLIER).extract()\n",
    "            raw_seller_response_rate = products.xpath(XPATH_SELLER_RESPONSE_RATE).extract()\n",
    "            raw_transaction_level = products.xpath(XPATH_TRANSACTION_LEVEL).extract()\n",
    "            raw_product_link = products.xpath(XPATH_PRODUCT_LINK).extract()\n",
    "        \n",
    "            #getting the fraction part\n",
    "            raw_transaction_level_fraction = products.xpath(XPATH_TRANSACTION_LEVEL_FRACTION)\n",
    "\n",
    "            # cleaning the data\n",
    "            product_name = ''.join(raw_product_name).strip() if raw_product_name else None\n",
    "            product_price = ''.join(raw_product_price).strip() if raw_product_price else None\n",
    "            minimum_order = ''.join(raw_minimum_order).strip() if raw_minimum_order else None\n",
    "            seller_years_on_alibaba = ''.join(raw_seller_years).strip() if raw_seller_years else None\n",
    "            supplier_name = ''.join(raw_supplier_name).strip() if raw_supplier_name else None\n",
    "            seller_response_rate = ''.join(raw_seller_response_rate).strip() if raw_seller_response_rate else None\n",
    "            #getting actual transaction levels by adding the fraction part\n",
    "            transaction_level = len(raw_transaction_level)+.5 if raw_transaction_level_fraction else len(raw_transaction_level)\n",
    "            product_link = \"https:\"+raw_product_link[0] if raw_product_link else None\n",
    "\n",
    "            yield {\n",
    "                'product_name':product_name,\n",
    "                'product_price':product_price,\n",
    "                'minimum_order':minimum_order,\n",
    "                'seller_years_on_alibaba':seller_years_on_alibaba,\n",
    "                'supplier_name':supplier_name,\n",
    "                'seller_response_rate':seller_response_rate,\n",
    "                'transaction_level':transaction_level,\n",
    "                'product_link':product_link,\n",
    "                #'search_text':search_keyword\n",
    "                }    "
   ]
  },
  {
   "cell_type": "code",
   "execution_count": 14,
   "metadata": {},
   "outputs": [
    {
     "name": "stderr",
     "output_type": "stream",
     "text": [
      "2019-08-21 10:24:18 [scrapy.utils.log] INFO: Scrapy 1.6.0 started (bot: scrapybot)\n",
      "2019-08-21 10:24:18 [scrapy.utils.log] INFO: Versions: lxml 4.3.4.0, libxml2 2.9.9, cssselect 1.0.3, parsel 1.5.1, w3lib 1.20.0, Twisted 19.2.0, Python 3.7.3 (default, Mar 27 2019, 16:54:48) - [Clang 4.0.1 (tags/RELEASE_401/final)], pyOpenSSL 19.0.0 (OpenSSL 1.1.1c  28 May 2019), cryptography 2.7, Platform Darwin-18.7.0-x86_64-i386-64bit\n"
     ]
    }
   ],
   "source": [
    "process = CrawlerProcess()"
   ]
  },
  {
   "cell_type": "code",
   "execution_count": 15,
   "metadata": {},
   "outputs": [
    {
     "name": "stderr",
     "output_type": "stream",
     "text": [
      "2019-08-21 10:24:45 [scrapy.crawler] INFO: Overridden settings: {}\n",
      "2019-08-21 10:24:45 [scrapy.extensions.telnet] INFO: Telnet Password: 1429c100d9c91f43\n",
      "2019-08-21 10:24:45 [scrapy.middleware] INFO: Enabled extensions:\n",
      "['scrapy.extensions.corestats.CoreStats',\n",
      " 'scrapy.extensions.telnet.TelnetConsole',\n",
      " 'scrapy.extensions.memusage.MemoryUsage',\n",
      " 'scrapy.extensions.logstats.LogStats']\n",
      "2019-08-21 10:24:45 [scrapy.middleware] INFO: Enabled downloader middlewares:\n",
      "['scrapy.downloadermiddlewares.httpauth.HttpAuthMiddleware',\n",
      " 'scrapy.downloadermiddlewares.downloadtimeout.DownloadTimeoutMiddleware',\n",
      " 'scrapy.downloadermiddlewares.defaultheaders.DefaultHeadersMiddleware',\n",
      " 'scrapy.downloadermiddlewares.useragent.UserAgentMiddleware',\n",
      " 'scrapy.downloadermiddlewares.retry.RetryMiddleware',\n",
      " 'scrapy.downloadermiddlewares.redirect.MetaRefreshMiddleware',\n",
      " 'scrapy.downloadermiddlewares.httpcompression.HttpCompressionMiddleware',\n",
      " 'scrapy.downloadermiddlewares.redirect.RedirectMiddleware',\n",
      " 'scrapy.downloadermiddlewares.cookies.CookiesMiddleware',\n",
      " 'scrapy.downloadermiddlewares.httpproxy.HttpProxyMiddleware',\n",
      " 'scrapy.downloadermiddlewares.stats.DownloaderStats']\n",
      "2019-08-21 10:24:45 [scrapy.middleware] INFO: Enabled spider middlewares:\n",
      "['scrapy.spidermiddlewares.httperror.HttpErrorMiddleware',\n",
      " 'scrapy.spidermiddlewares.offsite.OffsiteMiddleware',\n",
      " 'scrapy.spidermiddlewares.referer.RefererMiddleware',\n",
      " 'scrapy.spidermiddlewares.urllength.UrlLengthMiddleware',\n",
      " 'scrapy.spidermiddlewares.depth.DepthMiddleware']\n",
      "2019-08-21 10:24:45 [scrapy.middleware] INFO: Enabled item pipelines:\n",
      "[]\n",
      "2019-08-21 10:24:45 [scrapy.core.engine] INFO: Spider opened\n",
      "2019-08-21 10:24:45 [scrapy.extensions.logstats] INFO: Crawled 0 pages (at 0 pages/min), scraped 0 items (at 0 items/min)\n",
      "2019-08-21 10:24:45 [scrapy.extensions.telnet] INFO: Telnet console listening on 127.0.0.1:6023\n"
     ]
    },
    {
     "data": {
      "text/plain": [
       "<Deferred at 0x109667208>"
      ]
     },
     "execution_count": 15,
     "metadata": {},
     "output_type": "execute_result"
    }
   ],
   "source": [
    "process.crawl(AlibabaCrawlerSpider)"
   ]
  },
  {
   "cell_type": "code",
   "execution_count": 16,
   "metadata": {},
   "outputs": [
    {
     "name": "stderr",
     "output_type": "stream",
     "text": [
      "2019-08-21 10:25:02 [scrapy.core.engine] DEBUG: Crawled (200) <GET https://www.alibaba.com/trade/search?fsb=y&IndexArea=product_en&CatId=&SearchText=headphones&viewtype=G&tab=> (referer: None)\n",
      "2019-08-21 10:25:02 [scrapy.core.scraper] ERROR: Spider error processing <GET https://www.alibaba.com/trade/search?fsb=y&IndexArea=product_en&CatId=&SearchText=headphones&viewtype=G&tab=> (referer: None)\n",
      "Traceback (most recent call last):\n",
      "  File \"/Users/swang/anaconda3/envs/scrapy/lib/python3.7/site-packages/twisted/internet/defer.py\", line 654, in _runCallbacks\n",
      "    current.result = callback(current.result, *args, **kw)\n",
      "  File \"/Users/swang/anaconda3/envs/scrapy/lib/python3.7/site-packages/scrapy/spiders/__init__.py\", line 90, in parse\n",
      "    raise NotImplementedError('{}.parse callback is not defined'.format(self.__class__.__name__))\n",
      "NotImplementedError: AlibabaCrawlerSpider.parse callback is not defined\n",
      "2019-08-21 10:25:02 [scrapy.core.engine] INFO: Closing spider (finished)\n",
      "2019-08-21 10:25:02 [scrapy.statscollectors] INFO: Dumping Scrapy stats:\n",
      "{'downloader/request_bytes': 298,\n",
      " 'downloader/request_count': 1,\n",
      " 'downloader/request_method_count/GET': 1,\n",
      " 'downloader/response_bytes': 85621,\n",
      " 'downloader/response_count': 1,\n",
      " 'downloader/response_status_count/200': 1,\n",
      " 'finish_reason': 'finished',\n",
      " 'finish_time': datetime.datetime(2019, 8, 21, 17, 25, 2, 360435),\n",
      " 'log_count/DEBUG': 1,\n",
      " 'log_count/ERROR': 1,\n",
      " 'log_count/INFO': 9,\n",
      " 'memusage/max': 59457536,\n",
      " 'memusage/startup': 59457536,\n",
      " 'response_received_count': 1,\n",
      " 'scheduler/dequeued': 1,\n",
      " 'scheduler/dequeued/memory': 1,\n",
      " 'scheduler/enqueued': 1,\n",
      " 'scheduler/enqueued/memory': 1,\n",
      " 'spider_exceptions/NotImplementedError': 1,\n",
      " 'start_time': datetime.datetime(2019, 8, 21, 17, 24, 45, 353700)}\n",
      "2019-08-21 10:25:02 [scrapy.core.engine] INFO: Spider closed (finished)\n"
     ]
    }
   ],
   "source": [
    "process.start()"
   ]
  },
  {
   "cell_type": "code",
   "execution_count": 17,
   "metadata": {},
   "outputs": [
    {
     "ename": "NameError",
     "evalue": "name 'product_name' is not defined",
     "output_type": "error",
     "traceback": [
      "\u001b[0;31m---------------------------------------------------------------------------\u001b[0m",
      "\u001b[0;31mNameError\u001b[0m                                 Traceback (most recent call last)",
      "\u001b[0;32m<ipython-input-17-5a5e4f23d250>\u001b[0m in \u001b[0;36m<module>\u001b[0;34m\u001b[0m\n\u001b[0;32m----> 1\u001b[0;31m \u001b[0mproduct_name\u001b[0m\u001b[0;34m\u001b[0m\u001b[0;34m\u001b[0m\u001b[0m\n\u001b[0m",
      "\u001b[0;31mNameError\u001b[0m: name 'product_name' is not defined"
     ]
    }
   ],
   "source": [
    "product_name"
   ]
  },
  {
   "cell_type": "code",
   "execution_count": null,
   "metadata": {},
   "outputs": [],
   "source": []
  }
 ],
 "metadata": {
  "kernelspec": {
   "display_name": "Python 3",
   "language": "python",
   "name": "python3"
  },
  "language_info": {
   "codemirror_mode": {
    "name": "ipython",
    "version": 3
   },
   "file_extension": ".py",
   "mimetype": "text/x-python",
   "name": "python",
   "nbconvert_exporter": "python",
   "pygments_lexer": "ipython3",
   "version": "3.7.3"
  }
 },
 "nbformat": 4,
 "nbformat_minor": 4
}
