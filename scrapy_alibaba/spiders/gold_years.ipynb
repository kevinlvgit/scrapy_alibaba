{
 "cells": [
  {
   "cell_type": "code",
   "execution_count": 3,
   "metadata": {},
   "outputs": [],
   "source": [
    "import csv\n",
    "import numpy as np\n",
    "import pandas as pd"
   ]
  },
  {
   "cell_type": "code",
   "execution_count": 2,
   "metadata": {},
   "outputs": [],
   "source": [
    "with open('/Users/swang/scrapy_alibaba/test_b_domain.csv', 'rt', encoding='utf8') as file:\n",
    "            reader = csv.reader(file, delimiter=' ', quotechar='|')\n",
    "            next(reader)\n",
    "            url_list=[]\n",
    "            for row in reader:\n",
    "                for url in row:\n",
    "                    url_list.append(url)"
   ]
  },
  {
   "cell_type": "code",
   "execution_count": 4,
   "metadata": {},
   "outputs": [],
   "source": [
    "df = pd.read_csv('/Users/swang/scrapy_alibaba/test_b_domain.csv')"
   ]
  },
  {
   "cell_type": "code",
   "execution_count": 5,
   "metadata": {},
   "outputs": [
    {
     "data": {
      "text/plain": [
       "383791"
      ]
     },
     "execution_count": 5,
     "metadata": {},
     "output_type": "execute_result"
    }
   ],
   "source": [
    "len(url_list[11000000:])"
   ]
  },
  {
   "cell_type": "code",
   "execution_count": 5,
   "metadata": {},
   "outputs": [
    {
     "data": {
      "text/html": [
       "<div>\n",
       "<style scoped>\n",
       "    .dataframe tbody tr th:only-of-type {\n",
       "        vertical-align: middle;\n",
       "    }\n",
       "\n",
       "    .dataframe tbody tr th {\n",
       "        vertical-align: top;\n",
       "    }\n",
       "\n",
       "    .dataframe thead th {\n",
       "        text-align: right;\n",
       "    }\n",
       "</style>\n",
       "<table border=\"1\" class=\"dataframe\">\n",
       "  <thead>\n",
       "    <tr style=\"text-align: right;\">\n",
       "      <th></th>\n",
       "      <th>business_supplier</th>\n",
       "      <th>contacts_url</th>\n",
       "      <th>gold_status</th>\n",
       "      <th>gold_years</th>\n",
       "      <th>main_products</th>\n",
       "      <th>supplier_url</th>\n",
       "    </tr>\n",
       "  </thead>\n",
       "  <tbody>\n",
       "    <tr>\n",
       "      <th>0</th>\n",
       "      <td>Shanghai Lipu Electric Lighting Co., Ltd.</td>\n",
       "      <td>//lpzm.en.alibaba.com/contactinfo.html</td>\n",
       "      <td>Gold Supplier</td>\n",
       "      <td>12</td>\n",
       "      <td>Floodlight,Street Light,Ballast,Ignitor,LED Fl...</td>\n",
       "      <td>//lpzm.en.alibaba.com/company_profile.html#top...</td>\n",
       "    </tr>\n",
       "    <tr>\n",
       "      <th>1</th>\n",
       "      <td>Quanzhou Orientrise Horticulture Products Co.,...</td>\n",
       "      <td>//growstar.en.alibaba.com/contactinfo.html</td>\n",
       "      <td>Gold Supplier</td>\n",
       "      <td>9</td>\n",
       "      <td>Grow Tent,Grow Pot,Bubble Bag,Inline Fan,Carbo...</td>\n",
       "      <td>//growstar.en.alibaba.com/company_profile.html...</td>\n",
       "    </tr>\n",
       "    <tr>\n",
       "      <th>2</th>\n",
       "      <td>Sinowell (Shanghai) Co., Ltd.</td>\n",
       "      <td>//sinowell.en.alibaba.com/contactinfo.html</td>\n",
       "      <td>Supplier</td>\n",
       "      <td>11</td>\n",
       "      <td>Ballast,Reflector,Bulb,Filter,Inline Fan,Refle...</td>\n",
       "      <td>//sinowell.en.alibaba.com/company_profile.html...</td>\n",
       "    </tr>\n",
       "    <tr>\n",
       "      <th>3</th>\n",
       "      <td>Changzhou City Wujin Shinder Lighting Applianc...</td>\n",
       "      <td>//czxinde.en.alibaba.com/contactinfo.html</td>\n",
       "      <td>Gold Supplier</td>\n",
       "      <td>13</td>\n",
       "      <td>Flood Light,street light,Metal Halide lamp,led...</td>\n",
       "      <td>//czxinde.en.alibaba.com/company_profile.html#...</td>\n",
       "    </tr>\n",
       "    <tr>\n",
       "      <th>4</th>\n",
       "      <td>Huizhou HongYi Lighting Co., Ltd.</td>\n",
       "      <td>//hydroponics-products.en.alibaba.com/contacti...</td>\n",
       "      <td>Gold Supplier</td>\n",
       "      <td>7</td>\n",
       "      <td>Grow Light Reflector,Carbon Filter,Grow Tent,D...</td>\n",
       "      <td>//hydroponics-products.en.alibaba.com/company_...</td>\n",
       "    </tr>\n",
       "  </tbody>\n",
       "</table>\n",
       "</div>"
      ],
      "text/plain": [
       "                                   business_supplier  \\\n",
       "0          Shanghai Lipu Electric Lighting Co., Ltd.   \n",
       "1  Quanzhou Orientrise Horticulture Products Co.,...   \n",
       "2                      Sinowell (Shanghai) Co., Ltd.   \n",
       "3  Changzhou City Wujin Shinder Lighting Applianc...   \n",
       "4                  Huizhou HongYi Lighting Co., Ltd.   \n",
       "\n",
       "                                        contacts_url    gold_status  \\\n",
       "0             //lpzm.en.alibaba.com/contactinfo.html  Gold Supplier   \n",
       "1         //growstar.en.alibaba.com/contactinfo.html  Gold Supplier   \n",
       "2         //sinowell.en.alibaba.com/contactinfo.html       Supplier   \n",
       "3          //czxinde.en.alibaba.com/contactinfo.html  Gold Supplier   \n",
       "4  //hydroponics-products.en.alibaba.com/contacti...  Gold Supplier   \n",
       "\n",
       "   gold_years                                      main_products  \\\n",
       "0          12  Floodlight,Street Light,Ballast,Ignitor,LED Fl...   \n",
       "1           9  Grow Tent,Grow Pot,Bubble Bag,Inline Fan,Carbo...   \n",
       "2          11  Ballast,Reflector,Bulb,Filter,Inline Fan,Refle...   \n",
       "3          13  Flood Light,street light,Metal Halide lamp,led...   \n",
       "4           7  Grow Light Reflector,Carbon Filter,Grow Tent,D...   \n",
       "\n",
       "                                        supplier_url  \n",
       "0  //lpzm.en.alibaba.com/company_profile.html#top...  \n",
       "1  //growstar.en.alibaba.com/company_profile.html...  \n",
       "2  //sinowell.en.alibaba.com/company_profile.html...  \n",
       "3  //czxinde.en.alibaba.com/company_profile.html#...  \n",
       "4  //hydroponics-products.en.alibaba.com/company_...  "
      ]
     },
     "execution_count": 5,
     "metadata": {},
     "output_type": "execute_result"
    }
   ],
   "source": [
    "df.head()"
   ]
  },
  {
   "cell_type": "code",
   "execution_count": 41,
   "metadata": {},
   "outputs": [],
   "source": [
    "df2 = df.drop_duplicates(subset='contacts_url', keep='first')"
   ]
  },
  {
   "cell_type": "code",
   "execution_count": 42,
   "metadata": {},
   "outputs": [
    {
     "name": "stdout",
     "output_type": "stream",
     "text": [
      "<class 'pandas.core.frame.DataFrame'>\n",
      "RangeIndex: 12006 entries, 0 to 12005\n",
      "Data columns (total 6 columns):\n",
      "business_supplier    12006 non-null object\n",
      "contacts_url         12006 non-null object\n",
      "gold_status          12006 non-null object\n",
      "gold_years           12006 non-null int64\n",
      "main_products        12006 non-null object\n",
      "supplier_url         12006 non-null object\n",
      "dtypes: int64(1), object(5)\n",
      "memory usage: 562.9+ KB\n",
      "<class 'pandas.core.frame.DataFrame'>\n",
      "Int64Index: 5628 entries, 0 to 12005\n",
      "Data columns (total 6 columns):\n",
      "business_supplier    5628 non-null object\n",
      "contacts_url         5628 non-null object\n",
      "gold_status          5628 non-null object\n",
      "gold_years           5628 non-null int64\n",
      "main_products        5628 non-null object\n",
      "supplier_url         5628 non-null object\n",
      "dtypes: int64(1), object(5)\n",
      "memory usage: 307.8+ KB\n"
     ]
    }
   ],
   "source": [
    "df.info()\n",
    "df2.info()"
   ]
  },
  {
   "cell_type": "code",
   "execution_count": 50,
   "metadata": {},
   "outputs": [
    {
     "name": "stderr",
     "output_type": "stream",
     "text": [
      "/Users/swang/anaconda3/envs/scrapy/lib/python3.7/site-packages/ipykernel_launcher.py:1: SettingWithCopyWarning: \n",
      "A value is trying to be set on a copy of a slice from a DataFrame.\n",
      "Try using .loc[row_indexer,col_indexer] = value instead\n",
      "\n",
      "See the caveats in the documentation: http://pandas.pydata.org/pandas-docs/stable/indexing.html#indexing-view-versus-copy\n",
      "  \"\"\"Entry point for launching an IPython kernel.\n",
      "/Users/swang/anaconda3/envs/scrapy/lib/python3.7/site-packages/ipykernel_launcher.py:2: SettingWithCopyWarning: \n",
      "A value is trying to be set on a copy of a slice from a DataFrame.\n",
      "Try using .loc[row_indexer,col_indexer] = value instead\n",
      "\n",
      "See the caveats in the documentation: http://pandas.pydata.org/pandas-docs/stable/indexing.html#indexing-view-versus-copy\n",
      "  \n",
      "/Users/swang/anaconda3/envs/scrapy/lib/python3.7/site-packages/ipykernel_launcher.py:3: SettingWithCopyWarning: \n",
      "A value is trying to be set on a copy of a slice from a DataFrame.\n",
      "Try using .loc[row_indexer,col_indexer] = value instead\n",
      "\n",
      "See the caveats in the documentation: http://pandas.pydata.org/pandas-docs/stable/indexing.html#indexing-view-versus-copy\n",
      "  This is separate from the ipykernel package so we can avoid doing imports until\n"
     ]
    }
   ],
   "source": [
    "df2['contacts_url'] = df2['contacts_url'].apply(lambda x: x.replace('//',''))\n",
    "df2['supplier_url'] = df2['supplier_url'].apply(lambda x: x.replace('//',''))\n",
    "df2['main_products'] = df2['main_products'].apply(lambda x: x.replace(',', ', '))"
   ]
  },
  {
   "cell_type": "code",
   "execution_count": 48,
   "metadata": {},
   "outputs": [
    {
     "name": "stdout",
     "output_type": "stream",
     "text": [
      "growstar.en.alibaba.com/company_profile.html#top-nav-bar\n"
     ]
    }
   ],
   "source": [
    "print(df2.supplier_url[1])"
   ]
  },
  {
   "cell_type": "markdown",
   "metadata": {},
   "source": [
    "urls = df2.contacts_url.tolist()"
   ]
  },
  {
   "cell_type": "markdown",
   "metadata": {},
   "source": [
    "new_urls = []\n",
    "for url in urls:\n",
    "    new_urls.append(url.replace('//',''))"
   ]
  },
  {
   "cell_type": "markdown",
   "metadata": {},
   "source": [
    "new_urls"
   ]
  },
  {
   "cell_type": "code",
   "execution_count": 51,
   "metadata": {},
   "outputs": [],
   "source": [
    "df2.to_csv(r'/Users/swang/scrapy_alibaba/df2a.csv')"
   ]
  },
  {
   "cell_type": "code",
   "execution_count": 52,
   "metadata": {},
   "outputs": [
    {
     "data": {
      "text/html": [
       "<div>\n",
       "<style scoped>\n",
       "    .dataframe tbody tr th:only-of-type {\n",
       "        vertical-align: middle;\n",
       "    }\n",
       "\n",
       "    .dataframe tbody tr th {\n",
       "        vertical-align: top;\n",
       "    }\n",
       "\n",
       "    .dataframe thead th {\n",
       "        text-align: right;\n",
       "    }\n",
       "</style>\n",
       "<table border=\"1\" class=\"dataframe\">\n",
       "  <thead>\n",
       "    <tr style=\"text-align: right;\">\n",
       "      <th></th>\n",
       "      <th>business_supplier</th>\n",
       "      <th>contacts_url</th>\n",
       "      <th>gold_years</th>\n",
       "      <th>main_products</th>\n",
       "      <th>supplier_url</th>\n",
       "    </tr>\n",
       "    <tr>\n",
       "      <th>gold_status</th>\n",
       "      <th></th>\n",
       "      <th></th>\n",
       "      <th></th>\n",
       "      <th></th>\n",
       "      <th></th>\n",
       "    </tr>\n",
       "  </thead>\n",
       "  <tbody>\n",
       "    <tr>\n",
       "      <th>Gold Supplier</th>\n",
       "      <td>4481</td>\n",
       "      <td>4481</td>\n",
       "      <td>4481</td>\n",
       "      <td>4481</td>\n",
       "      <td>4481</td>\n",
       "    </tr>\n",
       "    <tr>\n",
       "      <th>Supplier</th>\n",
       "      <td>1147</td>\n",
       "      <td>1147</td>\n",
       "      <td>1147</td>\n",
       "      <td>1147</td>\n",
       "      <td>1147</td>\n",
       "    </tr>\n",
       "  </tbody>\n",
       "</table>\n",
       "</div>"
      ],
      "text/plain": [
       "               business_supplier  contacts_url  gold_years  main_products  \\\n",
       "gold_status                                                                 \n",
       "Gold Supplier               4481          4481        4481           4481   \n",
       "Supplier                    1147          1147        1147           1147   \n",
       "\n",
       "               supplier_url  \n",
       "gold_status                  \n",
       "Gold Supplier          4481  \n",
       "Supplier               1147  "
      ]
     },
     "execution_count": 52,
     "metadata": {},
     "output_type": "execute_result"
    }
   ],
   "source": [
    "df2.groupby(df2.gold_status).count()"
   ]
  },
  {
   "cell_type": "code",
   "execution_count": 54,
   "metadata": {},
   "outputs": [
    {
     "name": "stdout",
     "output_type": "stream",
     "text": [
      "<class 'pandas.core.frame.DataFrame'>\n",
      "Int64Index: 5628 entries, 0 to 12005\n",
      "Data columns (total 6 columns):\n",
      "business_supplier    5628 non-null object\n",
      "contacts_url         5628 non-null object\n",
      "gold_status          5628 non-null object\n",
      "gold_years           5628 non-null int64\n",
      "main_products        5628 non-null object\n",
      "supplier_url         5628 non-null object\n",
      "dtypes: int64(1), object(5)\n",
      "memory usage: 467.8+ KB\n"
     ]
    }
   ],
   "source": [
    "df2.info()"
   ]
  },
  {
   "cell_type": "code",
   "execution_count": 90,
   "metadata": {},
   "outputs": [],
   "source": [
    "df3 = df2[df2['gold_years'] > 5]"
   ]
  },
  {
   "cell_type": "code",
   "execution_count": 91,
   "metadata": {},
   "outputs": [
    {
     "data": {
      "text/plain": [
       "business_supplier    2488\n",
       "contacts_url         2488\n",
       "gold_status          2488\n",
       "gold_years           2488\n",
       "main_products        2488\n",
       "supplier_url         2488\n",
       "dtype: int64"
      ]
     },
     "execution_count": 91,
     "metadata": {},
     "output_type": "execute_result"
    }
   ],
   "source": [
    "df3.count()"
   ]
  },
  {
   "cell_type": "code",
   "execution_count": 92,
   "metadata": {},
   "outputs": [],
   "source": [
    "df4 = df3[df3['gold_status']=='Gold Supplier']"
   ]
  },
  {
   "cell_type": "code",
   "execution_count": 93,
   "metadata": {},
   "outputs": [
    {
     "data": {
      "text/plain": [
       "business_supplier    1793\n",
       "contacts_url         1793\n",
       "gold_status          1793\n",
       "gold_years           1793\n",
       "main_products        1793\n",
       "supplier_url         1793\n",
       "dtype: int64"
      ]
     },
     "execution_count": 93,
     "metadata": {},
     "output_type": "execute_result"
    }
   ],
   "source": [
    "df4.count()"
   ]
  },
  {
   "cell_type": "code",
   "execution_count": 94,
   "metadata": {},
   "outputs": [
    {
     "data": {
      "text/html": [
       "<div>\n",
       "<style scoped>\n",
       "    .dataframe tbody tr th:only-of-type {\n",
       "        vertical-align: middle;\n",
       "    }\n",
       "\n",
       "    .dataframe tbody tr th {\n",
       "        vertical-align: top;\n",
       "    }\n",
       "\n",
       "    .dataframe thead th {\n",
       "        text-align: right;\n",
       "    }\n",
       "</style>\n",
       "<table border=\"1\" class=\"dataframe\">\n",
       "  <thead>\n",
       "    <tr style=\"text-align: right;\">\n",
       "      <th></th>\n",
       "      <th>business_supplier</th>\n",
       "      <th>contacts_url</th>\n",
       "      <th>gold_status</th>\n",
       "      <th>gold_years</th>\n",
       "      <th>main_products</th>\n",
       "      <th>supplier_url</th>\n",
       "    </tr>\n",
       "  </thead>\n",
       "  <tbody>\n",
       "    <tr>\n",
       "      <th>0</th>\n",
       "      <td>Shanghai Lipu Electric Lighting Co., Ltd.</td>\n",
       "      <td>lpzm.en.alibaba.com/contactinfo.html</td>\n",
       "      <td>Gold Supplier</td>\n",
       "      <td>12</td>\n",
       "      <td>Floodlight, Street Light, Ballast, Ignitor, LE...</td>\n",
       "      <td>lpzm.en.alibaba.com/company_profile.html#top-n...</td>\n",
       "    </tr>\n",
       "    <tr>\n",
       "      <th>1</th>\n",
       "      <td>Quanzhou Orientrise Horticulture Products Co.,...</td>\n",
       "      <td>growstar.en.alibaba.com/contactinfo.html</td>\n",
       "      <td>Gold Supplier</td>\n",
       "      <td>9</td>\n",
       "      <td>Grow Tent, Grow Pot, Bubble Bag, Inline Fan, C...</td>\n",
       "      <td>growstar.en.alibaba.com/company_profile.html#t...</td>\n",
       "    </tr>\n",
       "    <tr>\n",
       "      <th>3</th>\n",
       "      <td>Changzhou City Wujin Shinder Lighting Applianc...</td>\n",
       "      <td>czxinde.en.alibaba.com/contactinfo.html</td>\n",
       "      <td>Gold Supplier</td>\n",
       "      <td>13</td>\n",
       "      <td>Flood Light, street light, Metal Halide lamp, ...</td>\n",
       "      <td>czxinde.en.alibaba.com/company_profile.html#to...</td>\n",
       "    </tr>\n",
       "    <tr>\n",
       "      <th>4</th>\n",
       "      <td>Huizhou HongYi Lighting Co., Ltd.</td>\n",
       "      <td>hydroponics-products.en.alibaba.com/contactinf...</td>\n",
       "      <td>Gold Supplier</td>\n",
       "      <td>7</td>\n",
       "      <td>Grow Light Reflector, Carbon Filter, Grow Tent...</td>\n",
       "      <td>hydroponics-products.en.alibaba.com/company_pr...</td>\n",
       "    </tr>\n",
       "    <tr>\n",
       "      <th>5</th>\n",
       "      <td>Lanxi Bistar Lighting Co., Ltd.</td>\n",
       "      <td>bistar.en.alibaba.com/contactinfo.html</td>\n",
       "      <td>Gold Supplier</td>\n",
       "      <td>13</td>\n",
       "      <td>Lamp, Electronic Ballast</td>\n",
       "      <td>bistar.en.alibaba.com/company_profile.html#top...</td>\n",
       "    </tr>\n",
       "  </tbody>\n",
       "</table>\n",
       "</div>"
      ],
      "text/plain": [
       "                                   business_supplier  \\\n",
       "0          Shanghai Lipu Electric Lighting Co., Ltd.   \n",
       "1  Quanzhou Orientrise Horticulture Products Co.,...   \n",
       "3  Changzhou City Wujin Shinder Lighting Applianc...   \n",
       "4                  Huizhou HongYi Lighting Co., Ltd.   \n",
       "5                    Lanxi Bistar Lighting Co., Ltd.   \n",
       "\n",
       "                                        contacts_url    gold_status  \\\n",
       "0               lpzm.en.alibaba.com/contactinfo.html  Gold Supplier   \n",
       "1           growstar.en.alibaba.com/contactinfo.html  Gold Supplier   \n",
       "3            czxinde.en.alibaba.com/contactinfo.html  Gold Supplier   \n",
       "4  hydroponics-products.en.alibaba.com/contactinf...  Gold Supplier   \n",
       "5             bistar.en.alibaba.com/contactinfo.html  Gold Supplier   \n",
       "\n",
       "   gold_years                                      main_products  \\\n",
       "0          12  Floodlight, Street Light, Ballast, Ignitor, LE...   \n",
       "1           9  Grow Tent, Grow Pot, Bubble Bag, Inline Fan, C...   \n",
       "3          13  Flood Light, street light, Metal Halide lamp, ...   \n",
       "4           7  Grow Light Reflector, Carbon Filter, Grow Tent...   \n",
       "5          13                           Lamp, Electronic Ballast   \n",
       "\n",
       "                                        supplier_url  \n",
       "0  lpzm.en.alibaba.com/company_profile.html#top-n...  \n",
       "1  growstar.en.alibaba.com/company_profile.html#t...  \n",
       "3  czxinde.en.alibaba.com/company_profile.html#to...  \n",
       "4  hydroponics-products.en.alibaba.com/company_pr...  \n",
       "5  bistar.en.alibaba.com/company_profile.html#top...  "
      ]
     },
     "execution_count": 94,
     "metadata": {},
     "output_type": "execute_result"
    }
   ],
   "source": [
    "df4.head()"
   ]
  },
  {
   "cell_type": "code",
   "execution_count": null,
   "metadata": {},
   "outputs": [],
   "source": []
  }
 ],
 "metadata": {
  "kernelspec": {
   "display_name": "Python 3",
   "language": "python",
   "name": "python3"
  },
  "language_info": {
   "codemirror_mode": {
    "name": "ipython",
    "version": 3
   },
   "file_extension": ".py",
   "mimetype": "text/x-python",
   "name": "python",
   "nbconvert_exporter": "python",
   "pygments_lexer": "ipython3",
   "version": "3.7.3"
  }
 },
 "nbformat": 4,
 "nbformat_minor": 4
}
