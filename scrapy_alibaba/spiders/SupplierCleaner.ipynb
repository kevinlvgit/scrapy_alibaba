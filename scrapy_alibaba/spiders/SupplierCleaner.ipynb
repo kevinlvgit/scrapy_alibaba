{
 "cells": [
  {
   "cell_type": "code",
   "execution_count": 39,
   "metadata": {},
   "outputs": [],
   "source": [
    "import pandas as pd\n",
    "import numpy as np\n",
    "import re\n",
    "cleanr = re.compile('<.*?>') "
   ]
  },
  {
   "cell_type": "code",
   "execution_count": 40,
   "metadata": {},
   "outputs": [],
   "source": [
    "df = pd.read_csv('/Users/swang/scrapy_alibaba/scrapy_write/health.csv')"
   ]
  },
  {
   "cell_type": "code",
   "execution_count": 41,
   "metadata": {},
   "outputs": [
    {
     "name": "stdout",
     "output_type": "stream",
     "text": [
      "<class 'pandas.core.frame.DataFrame'>\n",
      "RangeIndex: 16039 entries, 0 to 16038\n",
      "Data columns (total 7 columns):\n",
      "category             16039 non-null object\n",
      "business_supplier    16039 non-null object\n",
      "gold_status          13503 non-null object\n",
      "gold_years           13503 non-null float64\n",
      "main_products        15961 non-null object\n",
      "supplier_url         16039 non-null object\n",
      "contacts_url         16039 non-null object\n",
      "dtypes: float64(1), object(6)\n",
      "memory usage: 877.2+ KB\n"
     ]
    }
   ],
   "source": [
    "df.info()"
   ]
  },
  {
   "cell_type": "code",
   "execution_count": 42,
   "metadata": {},
   "outputs": [],
   "source": [
    "df2 = df.drop_duplicates(subset='contacts_url', keep='first')\n",
    "df2 = df2.reset_index(drop=True)\n",
    "df2['main_products'] = df2['main_products'].astype(str).apply(lambda x: x.replace(',', ', '))\n",
    "df2['main_products'] = df2['main_products'].apply(lambda x: re.sub(cleanr, \"\", x))\n",
    "df2['gold_status'] = df2['gold_status'].astype(str).apply(lambda x: x.strip())\n"
   ]
  },
  {
   "cell_type": "code",
   "execution_count": 43,
   "metadata": {},
   "outputs": [
    {
     "data": {
      "text/html": [
       "<div>\n",
       "<style scoped>\n",
       "    .dataframe tbody tr th:only-of-type {\n",
       "        vertical-align: middle;\n",
       "    }\n",
       "\n",
       "    .dataframe tbody tr th {\n",
       "        vertical-align: top;\n",
       "    }\n",
       "\n",
       "    .dataframe thead th {\n",
       "        text-align: right;\n",
       "    }\n",
       "</style>\n",
       "<table border=\"1\" class=\"dataframe\">\n",
       "  <thead>\n",
       "    <tr style=\"text-align: right;\">\n",
       "      <th></th>\n",
       "      <th>category</th>\n",
       "      <th>business_supplier</th>\n",
       "      <th>gold_status</th>\n",
       "      <th>gold_years</th>\n",
       "      <th>main_products</th>\n",
       "      <th>supplier_url</th>\n",
       "      <th>contacts_url</th>\n",
       "    </tr>\n",
       "  </thead>\n",
       "  <tbody>\n",
       "    <tr>\n",
       "      <th>0</th>\n",
       "      <td>Health</td>\n",
       "      <td>Shanghai David International Trade Co., Ltd.</td>\n",
       "      <td>Supplier</td>\n",
       "      <td>15.0</td>\n",
       "      <td>Ice Packs, Heat Packs, Hot Cold Packs, Promoti...</td>\n",
       "      <td>https://cnshzhongdi.en.alibaba.com/company_pro...</td>\n",
       "      <td>https://cnshzhongdi.en.alibaba.com/contactinfo...</td>\n",
       "    </tr>\n",
       "    <tr>\n",
       "      <th>1</th>\n",
       "      <td>Health</td>\n",
       "      <td>Changzhou Manorshi Electronics Co., Ltd.</td>\n",
       "      <td>Gold Supplier</td>\n",
       "      <td>6.0</td>\n",
       "      <td>Buzzer, Speaker, Ultrasonic Sensor, Piezo Buzz...</td>\n",
       "      <td>https://manorshi.en.alibaba.com/company_profil...</td>\n",
       "      <td>https://manorshi.en.alibaba.com/contactinfo.html</td>\n",
       "    </tr>\n",
       "    <tr>\n",
       "      <th>2</th>\n",
       "      <td>Health</td>\n",
       "      <td>Shaanxi Kanglai Ecology Agriculture Co., Ltd.</td>\n",
       "      <td>Gold Supplier</td>\n",
       "      <td>5.0</td>\n",
       "      <td>superfood, organic, fruit powder, vegetable po...</td>\n",
       "      <td>https://trunature.en.alibaba.com/company_profi...</td>\n",
       "      <td>https://trunature.en.alibaba.com/contactinfo.html</td>\n",
       "    </tr>\n",
       "    <tr>\n",
       "      <th>3</th>\n",
       "      <td>Health</td>\n",
       "      <td>Shijiazhuang Aofeite Imp &amp; Exp Co., Ltd.</td>\n",
       "      <td>Supplier</td>\n",
       "      <td>5.0</td>\n",
       "      <td>Lumbar Support Belt, Knee Brace</td>\n",
       "      <td>https://aofit.en.alibaba.com/company_profile.h...</td>\n",
       "      <td>https://aofit.en.alibaba.com/contactinfo.html</td>\n",
       "    </tr>\n",
       "    <tr>\n",
       "      <th>4</th>\n",
       "      <td>Health</td>\n",
       "      <td>Guangzhou Camaz , Care Co., Ltd.</td>\n",
       "      <td>Gold Supplier</td>\n",
       "      <td>3.0</td>\n",
       "      <td>Negative ions, Alkaline water, Anti radiation ...</td>\n",
       "      <td>https://icamaz.en.alibaba.com/company_profile....</td>\n",
       "      <td>https://icamaz.en.alibaba.com/contactinfo.html</td>\n",
       "    </tr>\n",
       "  </tbody>\n",
       "</table>\n",
       "</div>"
      ],
      "text/plain": [
       "  category                                business_supplier    gold_status  \\\n",
       "0   Health   Shanghai David International Trade Co., Ltd.         Supplier   \n",
       "1   Health       Changzhou Manorshi Electronics Co., Ltd.    Gold Supplier   \n",
       "2   Health  Shaanxi Kanglai Ecology Agriculture Co., Ltd.    Gold Supplier   \n",
       "3   Health       Shijiazhuang Aofeite Imp & Exp Co., Ltd.         Supplier   \n",
       "4   Health               Guangzhou Camaz , Care Co., Ltd.    Gold Supplier   \n",
       "\n",
       "   gold_years                                      main_products  \\\n",
       "0        15.0  Ice Packs, Heat Packs, Hot Cold Packs, Promoti...   \n",
       "1         6.0  Buzzer, Speaker, Ultrasonic Sensor, Piezo Buzz...   \n",
       "2         5.0  superfood, organic, fruit powder, vegetable po...   \n",
       "3         5.0                    Lumbar Support Belt, Knee Brace   \n",
       "4         3.0  Negative ions, Alkaline water, Anti radiation ...   \n",
       "\n",
       "                                        supplier_url  \\\n",
       "0  https://cnshzhongdi.en.alibaba.com/company_pro...   \n",
       "1  https://manorshi.en.alibaba.com/company_profil...   \n",
       "2  https://trunature.en.alibaba.com/company_profi...   \n",
       "3  https://aofit.en.alibaba.com/company_profile.h...   \n",
       "4  https://icamaz.en.alibaba.com/company_profile....   \n",
       "\n",
       "                                        contacts_url  \n",
       "0  https://cnshzhongdi.en.alibaba.com/contactinfo...  \n",
       "1   https://manorshi.en.alibaba.com/contactinfo.html  \n",
       "2  https://trunature.en.alibaba.com/contactinfo.html  \n",
       "3      https://aofit.en.alibaba.com/contactinfo.html  \n",
       "4     https://icamaz.en.alibaba.com/contactinfo.html  "
      ]
     },
     "execution_count": 43,
     "metadata": {},
     "output_type": "execute_result"
    }
   ],
   "source": [
    "df2.head()"
   ]
  },
  {
   "cell_type": "code",
   "execution_count": 44,
   "metadata": {},
   "outputs": [
    {
     "name": "stdout",
     "output_type": "stream",
     "text": [
      "<class 'pandas.core.frame.DataFrame'>\n",
      "RangeIndex: 8169 entries, 0 to 8168\n",
      "Data columns (total 7 columns):\n",
      "category             8169 non-null object\n",
      "business_supplier    8169 non-null object\n",
      "gold_status          8169 non-null object\n",
      "gold_years           6270 non-null float64\n",
      "main_products        8169 non-null object\n",
      "supplier_url         8169 non-null object\n",
      "contacts_url         8169 non-null object\n",
      "dtypes: float64(1), object(6)\n",
      "memory usage: 446.8+ KB\n"
     ]
    }
   ],
   "source": [
    "df2.info()"
   ]
  },
  {
   "cell_type": "code",
   "execution_count": 45,
   "metadata": {},
   "outputs": [
    {
     "data": {
      "text/html": [
       "<div>\n",
       "<style scoped>\n",
       "    .dataframe tbody tr th:only-of-type {\n",
       "        vertical-align: middle;\n",
       "    }\n",
       "\n",
       "    .dataframe tbody tr th {\n",
       "        vertical-align: top;\n",
       "    }\n",
       "\n",
       "    .dataframe thead th {\n",
       "        text-align: right;\n",
       "    }\n",
       "</style>\n",
       "<table border=\"1\" class=\"dataframe\">\n",
       "  <thead>\n",
       "    <tr style=\"text-align: right;\">\n",
       "      <th></th>\n",
       "      <th>category</th>\n",
       "      <th>business_supplier</th>\n",
       "      <th>gold_status</th>\n",
       "      <th>gold_years</th>\n",
       "      <th>main_products</th>\n",
       "      <th>supplier_url</th>\n",
       "      <th>contacts_url</th>\n",
       "    </tr>\n",
       "  </thead>\n",
       "  <tbody>\n",
       "    <tr>\n",
       "      <th>8164</th>\n",
       "      <td>Health</td>\n",
       "      <td>Beiheshi (Guangzhou) Electronics Co., Ltd.</td>\n",
       "      <td>Gold Supplier</td>\n",
       "      <td>1.0</td>\n",
       "      <td>Beauty equipment, Beauty products, Electronic ...</td>\n",
       "      <td>https://bhsmy.en.alibaba.com/company_profile.h...</td>\n",
       "      <td>https://bhsmy.en.alibaba.com/contactinfo.html</td>\n",
       "    </tr>\n",
       "    <tr>\n",
       "      <th>8165</th>\n",
       "      <td>Health</td>\n",
       "      <td>Shenzhen Jie Zhong Lian Investment Co., Ltd.</td>\n",
       "      <td>Gold Supplier</td>\n",
       "      <td>1.0</td>\n",
       "      <td>home beauty device, personal care, cleaning sk...</td>\n",
       "      <td>https://meizonscare.en.alibaba.com/company_pro...</td>\n",
       "      <td>https://meizonscare.en.alibaba.com/contactinfo...</td>\n",
       "    </tr>\n",
       "    <tr>\n",
       "      <th>8166</th>\n",
       "      <td>Health</td>\n",
       "      <td>Great Medical Industries (Anhui) Co., Limited</td>\n",
       "      <td>Gold Supplier</td>\n",
       "      <td>1.0</td>\n",
       "      <td>Disposable surgical drapes, Disposable surgica...</td>\n",
       "      <td>https://gremedical.en.alibaba.com/company_prof...</td>\n",
       "      <td>https://gremedical.en.alibaba.com/contactinfo....</td>\n",
       "    </tr>\n",
       "    <tr>\n",
       "      <th>8167</th>\n",
       "      <td>Health</td>\n",
       "      <td>SHAYONA LIFE SCIENCE</td>\n",
       "      <td>Gold Supplier</td>\n",
       "      <td>1.0</td>\n",
       "      <td>Ultra Sound Gel, ECG Gel, Sonography Gel, Face...</td>\n",
       "      <td>https://in1331934582mqlx.trustpass.alibaba.com...</td>\n",
       "      <td>https://in1331934582mqlx.trustpass.alibaba.com...</td>\n",
       "    </tr>\n",
       "    <tr>\n",
       "      <th>8168</th>\n",
       "      <td>Health</td>\n",
       "      <td>Dezhou Create Fitness Equipment Co., Ltd.</td>\n",
       "      <td>Supplier</td>\n",
       "      <td>3.0</td>\n",
       "      <td>Massage Products</td>\n",
       "      <td>https://dzcreate.en.alibaba.com/company_profil...</td>\n",
       "      <td>https://dzcreate.en.alibaba.com/contactinfo.html</td>\n",
       "    </tr>\n",
       "  </tbody>\n",
       "</table>\n",
       "</div>"
      ],
      "text/plain": [
       "     category                                business_supplier    gold_status  \\\n",
       "8164   Health     Beiheshi (Guangzhou) Electronics Co., Ltd.    Gold Supplier   \n",
       "8165   Health   Shenzhen Jie Zhong Lian Investment Co., Ltd.    Gold Supplier   \n",
       "8166   Health  Great Medical Industries (Anhui) Co., Limited    Gold Supplier   \n",
       "8167   Health                           SHAYONA LIFE SCIENCE    Gold Supplier   \n",
       "8168   Health      Dezhou Create Fitness Equipment Co., Ltd.         Supplier   \n",
       "\n",
       "      gold_years                                      main_products  \\\n",
       "8164         1.0  Beauty equipment, Beauty products, Electronic ...   \n",
       "8165         1.0  home beauty device, personal care, cleaning sk...   \n",
       "8166         1.0  Disposable surgical drapes, Disposable surgica...   \n",
       "8167         1.0  Ultra Sound Gel, ECG Gel, Sonography Gel, Face...   \n",
       "8168         3.0                                   Massage Products   \n",
       "\n",
       "                                           supplier_url  \\\n",
       "8164  https://bhsmy.en.alibaba.com/company_profile.h...   \n",
       "8165  https://meizonscare.en.alibaba.com/company_pro...   \n",
       "8166  https://gremedical.en.alibaba.com/company_prof...   \n",
       "8167  https://in1331934582mqlx.trustpass.alibaba.com...   \n",
       "8168  https://dzcreate.en.alibaba.com/company_profil...   \n",
       "\n",
       "                                           contacts_url  \n",
       "8164      https://bhsmy.en.alibaba.com/contactinfo.html  \n",
       "8165  https://meizonscare.en.alibaba.com/contactinfo...  \n",
       "8166  https://gremedical.en.alibaba.com/contactinfo....  \n",
       "8167  https://in1331934582mqlx.trustpass.alibaba.com...  \n",
       "8168   https://dzcreate.en.alibaba.com/contactinfo.html  "
      ]
     },
     "execution_count": 45,
     "metadata": {},
     "output_type": "execute_result"
    }
   ],
   "source": [
    "df2.tail()"
   ]
  },
  {
   "cell_type": "code",
   "execution_count": 46,
   "metadata": {},
   "outputs": [],
   "source": [
    "df2.to_csv(r'/Users/swang/scrapy_alibaba/scrapy_read/health_clean.csv')"
   ]
  },
  {
   "cell_type": "code",
   "execution_count": null,
   "metadata": {},
   "outputs": [],
   "source": []
  }
 ],
 "metadata": {
  "kernelspec": {
   "display_name": "Python 3",
   "language": "python",
   "name": "python3"
  },
  "language_info": {
   "codemirror_mode": {
    "name": "ipython",
    "version": 3
   },
   "file_extension": ".py",
   "mimetype": "text/x-python",
   "name": "python",
   "nbconvert_exporter": "python",
   "pygments_lexer": "ipython3",
   "version": "3.7.3"
  }
 },
 "nbformat": 4,
 "nbformat_minor": 4
}
