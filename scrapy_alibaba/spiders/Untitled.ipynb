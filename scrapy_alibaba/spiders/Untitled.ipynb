{
 "cells": [
  {
   "cell_type": "code",
   "execution_count": 1,
   "metadata": {},
   "outputs": [],
   "source": [
    "import pandas as pd\n",
    "import numpy as np"
   ]
  },
  {
   "cell_type": "code",
   "execution_count": 6,
   "metadata": {},
   "outputs": [],
   "source": [
    "df = pd.read_csv('/Users/swang/scrapy_alibaba/scrapy_write/womens4.csv')"
   ]
  },
  {
   "cell_type": "code",
   "execution_count": 7,
   "metadata": {},
   "outputs": [
    {
     "data": {
      "text/html": [
       "<div>\n",
       "<style scoped>\n",
       "    .dataframe tbody tr th:only-of-type {\n",
       "        vertical-align: middle;\n",
       "    }\n",
       "\n",
       "    .dataframe tbody tr th {\n",
       "        vertical-align: top;\n",
       "    }\n",
       "\n",
       "    .dataframe thead th {\n",
       "        text-align: right;\n",
       "    }\n",
       "</style>\n",
       "<table border=\"1\" class=\"dataframe\">\n",
       "  <thead>\n",
       "    <tr style=\"text-align: right;\">\n",
       "      <th></th>\n",
       "      <th>supplier_url</th>\n",
       "      <th>supplier_name</th>\n",
       "      <th>rating</th>\n",
       "      <th>market</th>\n",
       "    </tr>\n",
       "  </thead>\n",
       "  <tbody>\n",
       "    <tr>\n",
       "      <th>0</th>\n",
       "      <td>https://cnshiya.en.alibaba.com/company_profile...</td>\n",
       "      <td>NaN</td>\n",
       "      <td>NaN</td>\n",
       "      <td>NaN</td>\n",
       "    </tr>\n",
       "    <tr>\n",
       "      <th>1</th>\n",
       "      <td>https://glsuit.en.alibaba.com/company_profile....</td>\n",
       "      <td>Hangzhou Dream Boat Garment Co., Ltd.</td>\n",
       "      <td>4.9</td>\n",
       "      <td>North America 50.00%,South America 30.00%,Sout...</td>\n",
       "    </tr>\n",
       "    <tr>\n",
       "      <th>2</th>\n",
       "      <td>https://hkjinlin.en.alibaba.com/company_profil...</td>\n",
       "      <td>Yiwu Jiju Import &amp; Export Co., Ltd.</td>\n",
       "      <td>4.4</td>\n",
       "      <td>Southeast Asia 17.71%,Mid East 15.93%,North Am...</td>\n",
       "    </tr>\n",
       "    <tr>\n",
       "      <th>3</th>\n",
       "      <td>https://wanyuwear.en.alibaba.com/company_profi...</td>\n",
       "      <td>Zhejiang Wanyu Knitting Co., Ltd.</td>\n",
       "      <td>NaN</td>\n",
       "      <td>North America 28.86%,Western Europe 18.29%,Eas...</td>\n",
       "    </tr>\n",
       "    <tr>\n",
       "      <th>4</th>\n",
       "      <td>https://fzbingo.en.alibaba.com/company_profile...</td>\n",
       "      <td>Fuzhou Bingo Trading Co., Ltd.</td>\n",
       "      <td>5.0</td>\n",
       "      <td>Southern Europe 10.00%,Northern Europe 10.00%,...</td>\n",
       "    </tr>\n",
       "  </tbody>\n",
       "</table>\n",
       "</div>"
      ],
      "text/plain": [
       "                                        supplier_url  \\\n",
       "0  https://cnshiya.en.alibaba.com/company_profile...   \n",
       "1  https://glsuit.en.alibaba.com/company_profile....   \n",
       "2  https://hkjinlin.en.alibaba.com/company_profil...   \n",
       "3  https://wanyuwear.en.alibaba.com/company_profi...   \n",
       "4  https://fzbingo.en.alibaba.com/company_profile...   \n",
       "\n",
       "                           supplier_name  rating  \\\n",
       "0                                    NaN     NaN   \n",
       "1  Hangzhou Dream Boat Garment Co., Ltd.     4.9   \n",
       "2    Yiwu Jiju Import & Export Co., Ltd.     4.4   \n",
       "3      Zhejiang Wanyu Knitting Co., Ltd.     NaN   \n",
       "4         Fuzhou Bingo Trading Co., Ltd.     5.0   \n",
       "\n",
       "                                              market  \n",
       "0                                                NaN  \n",
       "1  North America 50.00%,South America 30.00%,Sout...  \n",
       "2  Southeast Asia 17.71%,Mid East 15.93%,North Am...  \n",
       "3  North America 28.86%,Western Europe 18.29%,Eas...  \n",
       "4  Southern Europe 10.00%,Northern Europe 10.00%,...  "
      ]
     },
     "execution_count": 7,
     "metadata": {},
     "output_type": "execute_result"
    }
   ],
   "source": [
    "df.head()"
   ]
  },
  {
   "cell_type": "code",
   "execution_count": 9,
   "metadata": {},
   "outputs": [],
   "source": [
    "df['market'] = df['market'].astype(str).apply(lambda x: x.replace(',', ', '))"
   ]
  },
  {
   "cell_type": "code",
   "execution_count": 10,
   "metadata": {},
   "outputs": [
    {
     "data": {
      "text/html": [
       "<div>\n",
       "<style scoped>\n",
       "    .dataframe tbody tr th:only-of-type {\n",
       "        vertical-align: middle;\n",
       "    }\n",
       "\n",
       "    .dataframe tbody tr th {\n",
       "        vertical-align: top;\n",
       "    }\n",
       "\n",
       "    .dataframe thead th {\n",
       "        text-align: right;\n",
       "    }\n",
       "</style>\n",
       "<table border=\"1\" class=\"dataframe\">\n",
       "  <thead>\n",
       "    <tr style=\"text-align: right;\">\n",
       "      <th></th>\n",
       "      <th>supplier_url</th>\n",
       "      <th>supplier_name</th>\n",
       "      <th>rating</th>\n",
       "      <th>market</th>\n",
       "    </tr>\n",
       "  </thead>\n",
       "  <tbody>\n",
       "    <tr>\n",
       "      <th>0</th>\n",
       "      <td>https://cnshiya.en.alibaba.com/company_profile...</td>\n",
       "      <td>NaN</td>\n",
       "      <td>NaN</td>\n",
       "      <td>nan</td>\n",
       "    </tr>\n",
       "    <tr>\n",
       "      <th>1</th>\n",
       "      <td>https://glsuit.en.alibaba.com/company_profile....</td>\n",
       "      <td>Hangzhou Dream Boat Garment Co., Ltd.</td>\n",
       "      <td>4.9</td>\n",
       "      <td>North America 50.00%, South America 30.00%, So...</td>\n",
       "    </tr>\n",
       "    <tr>\n",
       "      <th>2</th>\n",
       "      <td>https://hkjinlin.en.alibaba.com/company_profil...</td>\n",
       "      <td>Yiwu Jiju Import &amp; Export Co., Ltd.</td>\n",
       "      <td>4.4</td>\n",
       "      <td>Southeast Asia 17.71%, Mid East 15.93%, North ...</td>\n",
       "    </tr>\n",
       "    <tr>\n",
       "      <th>3</th>\n",
       "      <td>https://wanyuwear.en.alibaba.com/company_profi...</td>\n",
       "      <td>Zhejiang Wanyu Knitting Co., Ltd.</td>\n",
       "      <td>NaN</td>\n",
       "      <td>North America 28.86%, Western Europe 18.29%, E...</td>\n",
       "    </tr>\n",
       "    <tr>\n",
       "      <th>4</th>\n",
       "      <td>https://fzbingo.en.alibaba.com/company_profile...</td>\n",
       "      <td>Fuzhou Bingo Trading Co., Ltd.</td>\n",
       "      <td>5.0</td>\n",
       "      <td>Southern Europe 10.00%, Northern Europe 10.00%...</td>\n",
       "    </tr>\n",
       "  </tbody>\n",
       "</table>\n",
       "</div>"
      ],
      "text/plain": [
       "                                        supplier_url  \\\n",
       "0  https://cnshiya.en.alibaba.com/company_profile...   \n",
       "1  https://glsuit.en.alibaba.com/company_profile....   \n",
       "2  https://hkjinlin.en.alibaba.com/company_profil...   \n",
       "3  https://wanyuwear.en.alibaba.com/company_profi...   \n",
       "4  https://fzbingo.en.alibaba.com/company_profile...   \n",
       "\n",
       "                           supplier_name  rating  \\\n",
       "0                                    NaN     NaN   \n",
       "1  Hangzhou Dream Boat Garment Co., Ltd.     4.9   \n",
       "2    Yiwu Jiju Import & Export Co., Ltd.     4.4   \n",
       "3      Zhejiang Wanyu Knitting Co., Ltd.     NaN   \n",
       "4         Fuzhou Bingo Trading Co., Ltd.     5.0   \n",
       "\n",
       "                                              market  \n",
       "0                                                nan  \n",
       "1  North America 50.00%, South America 30.00%, So...  \n",
       "2  Southeast Asia 17.71%, Mid East 15.93%, North ...  \n",
       "3  North America 28.86%, Western Europe 18.29%, E...  \n",
       "4  Southern Europe 10.00%, Northern Europe 10.00%...  "
      ]
     },
     "execution_count": 10,
     "metadata": {},
     "output_type": "execute_result"
    }
   ],
   "source": [
    "df.head()"
   ]
  },
  {
   "cell_type": "code",
   "execution_count": 11,
   "metadata": {},
   "outputs": [],
   "source": [
    "df.to_csv(r'/Users/swang/scrapy_alibaba/scrapy_read/womens4.csv')"
   ]
  },
  {
   "cell_type": "code",
   "execution_count": null,
   "metadata": {},
   "outputs": [],
   "source": []
  }
 ],
 "metadata": {
  "kernelspec": {
   "display_name": "Python 3",
   "language": "python",
   "name": "python3"
  },
  "language_info": {
   "codemirror_mode": {
    "name": "ipython",
    "version": 3
   },
   "file_extension": ".py",
   "mimetype": "text/x-python",
   "name": "python",
   "nbconvert_exporter": "python",
   "pygments_lexer": "ipython3",
   "version": "3.7.3"
  }
 },
 "nbformat": 4,
 "nbformat_minor": 4
}
