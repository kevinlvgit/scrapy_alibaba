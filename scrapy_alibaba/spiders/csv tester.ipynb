{
 "cells": [
  {
   "cell_type": "code",
   "execution_count": 41,
   "metadata": {},
   "outputs": [],
   "source": [
    "import numpy as np\n",
    "import pandas as pd\n",
    "import re"
   ]
  },
  {
   "cell_type": "code",
   "execution_count": 23,
   "metadata": {},
   "outputs": [],
   "source": [
    "df = pd.read_csv('allgold.csv')"
   ]
  },
  {
   "cell_type": "code",
   "execution_count": 24,
   "metadata": {},
   "outputs": [
    {
     "data": {
      "text/html": [
       "<div>\n",
       "<style scoped>\n",
       "    .dataframe tbody tr th:only-of-type {\n",
       "        vertical-align: middle;\n",
       "    }\n",
       "\n",
       "    .dataframe tbody tr th {\n",
       "        vertical-align: top;\n",
       "    }\n",
       "\n",
       "    .dataframe thead th {\n",
       "        text-align: right;\n",
       "    }\n",
       "</style>\n",
       "<table border=\"1\" class=\"dataframe\">\n",
       "  <thead>\n",
       "    <tr style=\"text-align: right;\">\n",
       "      <th></th>\n",
       "      <th>gold</th>\n",
       "      <th>product</th>\n",
       "      <th>supplier</th>\n",
       "      <th>years</th>\n",
       "    </tr>\n",
       "  </thead>\n",
       "  <tbody>\n",
       "    <tr>\n",
       "      <th>0</th>\n",
       "      <td>&lt;i class=\"supplier-icon icbu-certificate-icon ...</td>\n",
       "      <td>Joytech High speed shutter door</td>\n",
       "      <td>Zhejiang Joytech Electronics Co., Ltd.</td>\n",
       "      <td>NaN</td>\n",
       "    </tr>\n",
       "    <tr>\n",
       "      <th>1</th>\n",
       "      <td>&lt;i class=\"supplier-icon ui2-icon-svg ui2-icon-...</td>\n",
       "      <td>2019 new products popular patio white winteriz...</td>\n",
       "      <td>Foshan Wei Bo Windows &amp; Doors Co., Ltd.</td>\n",
       "      <td>NaN</td>\n",
       "    </tr>\n",
       "    <tr>\n",
       "      <th>2</th>\n",
       "      <td>&lt;i class=\"supplier-icon ui2-icon-svg ui2-icon-...</td>\n",
       "      <td>Euro standard Israel market anti-dust waterpro...</td>\n",
       "      <td>Wenzhou Tianxi Hardware Co., Ltd.</td>\n",
       "      <td>NaN</td>\n",
       "    </tr>\n",
       "    <tr>\n",
       "      <th>3</th>\n",
       "      <td>&lt;i class=\"supplier-icon ui2-icon-svg ui2-icon-...</td>\n",
       "      <td>Cheap European style contracted mdf wooden int...</td>\n",
       "      <td>Foshan Baivilla Doors&amp;Windows System Co., Ltd.</td>\n",
       "      <td>NaN</td>\n",
       "    </tr>\n",
       "    <tr>\n",
       "      <th>4</th>\n",
       "      <td>&lt;i class=\"supplier-icon ui2-icon-svg ui2-icon-...</td>\n",
       "      <td>Top Quality And Cheap Interior Wooden Door Mdf...</td>\n",
       "      <td>GUANGDONG GEGUAN DOORS &amp; WINDOWS CO., LTD.</td>\n",
       "      <td>NaN</td>\n",
       "    </tr>\n",
       "  </tbody>\n",
       "</table>\n",
       "</div>"
      ],
      "text/plain": [
       "                                                gold  \\\n",
       "0  <i class=\"supplier-icon icbu-certificate-icon ...   \n",
       "1  <i class=\"supplier-icon ui2-icon-svg ui2-icon-...   \n",
       "2  <i class=\"supplier-icon ui2-icon-svg ui2-icon-...   \n",
       "3  <i class=\"supplier-icon ui2-icon-svg ui2-icon-...   \n",
       "4  <i class=\"supplier-icon ui2-icon-svg ui2-icon-...   \n",
       "\n",
       "                                             product  \\\n",
       "0                    Joytech High speed shutter door   \n",
       "1  2019 new products popular patio white winteriz...   \n",
       "2  Euro standard Israel market anti-dust waterpro...   \n",
       "3  Cheap European style contracted mdf wooden int...   \n",
       "4  Top Quality And Cheap Interior Wooden Door Mdf...   \n",
       "\n",
       "                                         supplier  years  \n",
       "0          Zhejiang Joytech Electronics Co., Ltd.    NaN  \n",
       "1         Foshan Wei Bo Windows & Doors Co., Ltd.    NaN  \n",
       "2               Wenzhou Tianxi Hardware Co., Ltd.    NaN  \n",
       "3  Foshan Baivilla Doors&Windows System Co., Ltd.    NaN  \n",
       "4      GUANGDONG GEGUAN DOORS & WINDOWS CO., LTD.    NaN  "
      ]
     },
     "execution_count": 24,
     "metadata": {},
     "output_type": "execute_result"
    }
   ],
   "source": [
    "df.head()"
   ]
  },
  {
   "cell_type": "code",
   "execution_count": 33,
   "metadata": {},
   "outputs": [
    {
     "data": {
      "text/plain": [
       "'<i class=\"supplier-icon icbu-certificate-icon icbu-certificate-icon-verified\"></i>'"
      ]
     },
     "execution_count": 33,
     "metadata": {},
     "output_type": "execute_result"
    }
   ],
   "source": [
    "df.gold[0]"
   ]
  },
  {
   "cell_type": "code",
   "execution_count": 40,
   "metadata": {},
   "outputs": [
    {
     "data": {
      "text/plain": [
       "'<i class=\"supplier-icon ui2-icon-svg ui2-icon-svg-xs ui2-icon-svg-trade-assurance\"></i>'"
      ]
     },
     "execution_count": 40,
     "metadata": {},
     "output_type": "execute_result"
    }
   ],
   "source": [
    "df.gold[3]"
   ]
  },
  {
   "cell_type": "code",
   "execution_count": 35,
   "metadata": {},
   "outputs": [
    {
     "data": {
      "text/plain": [
       "'<i class=\"supplier-icon ui2-icon-svg ui2-icon-svg-xs ui2-icon-svg-gold-supplier\"></i>'"
      ]
     },
     "execution_count": 35,
     "metadata": {},
     "output_type": "execute_result"
    }
   ],
   "source": [
    "df.gold[2]"
   ]
  },
  {
   "cell_type": "code",
   "execution_count": 37,
   "metadata": {},
   "outputs": [],
   "source": [
    "df['goldbinary'] = np.where(df.gold=='<i class=\"supplier-icon ui2-icon-svg ui2-icon-svg-xs ui2-icon-svg-gold-supplier\"></i>', 1, 0)"
   ]
  },
  {
   "cell_type": "code",
   "execution_count": 42,
   "metadata": {},
   "outputs": [],
   "source": [
    "df['goldtrue'] = df.gold.str.contains('gold', regex=False)"
   ]
  },
  {
   "cell_type": "code",
   "execution_count": 58,
   "metadata": {},
   "outputs": [],
   "source": [
    "goldf = df[df.goldbinary==1]"
   ]
  },
  {
   "cell_type": "code",
   "execution_count": 59,
   "metadata": {},
   "outputs": [
    {
     "data": {
      "text/html": [
       "<div>\n",
       "<style scoped>\n",
       "    .dataframe tbody tr th:only-of-type {\n",
       "        vertical-align: middle;\n",
       "    }\n",
       "\n",
       "    .dataframe tbody tr th {\n",
       "        vertical-align: top;\n",
       "    }\n",
       "\n",
       "    .dataframe thead th {\n",
       "        text-align: right;\n",
       "    }\n",
       "</style>\n",
       "<table border=\"1\" class=\"dataframe\">\n",
       "  <thead>\n",
       "    <tr style=\"text-align: right;\">\n",
       "      <th></th>\n",
       "      <th>gold</th>\n",
       "      <th>product</th>\n",
       "      <th>supplier</th>\n",
       "      <th>years</th>\n",
       "      <th>goldbinary</th>\n",
       "      <th>goldtrue</th>\n",
       "    </tr>\n",
       "  </thead>\n",
       "  <tbody>\n",
       "    <tr>\n",
       "      <th>2</th>\n",
       "      <td>&lt;i class=\"supplier-icon ui2-icon-svg ui2-icon-...</td>\n",
       "      <td>Euro standard Israel market anti-dust waterpro...</td>\n",
       "      <td>Wenzhou Tianxi Hardware Co., Ltd.</td>\n",
       "      <td>NaN</td>\n",
       "      <td>1</td>\n",
       "      <td>True</td>\n",
       "    </tr>\n",
       "    <tr>\n",
       "      <th>4</th>\n",
       "      <td>&lt;i class=\"supplier-icon ui2-icon-svg ui2-icon-...</td>\n",
       "      <td>Top Quality And Cheap Interior Wooden Door Mdf...</td>\n",
       "      <td>GUANGDONG GEGUAN DOORS &amp; WINDOWS CO., LTD.</td>\n",
       "      <td>NaN</td>\n",
       "      <td>1</td>\n",
       "      <td>True</td>\n",
       "    </tr>\n",
       "    <tr>\n",
       "      <th>10</th>\n",
       "      <td>&lt;i class=\"supplier-icon ui2-icon-svg ui2-icon-...</td>\n",
       "      <td>UK internal white primer hdf molded 4 panel ho...</td>\n",
       "      <td>Shouguang Runze Wood Industry Co., Ltd.</td>\n",
       "      <td>NaN</td>\n",
       "      <td>1</td>\n",
       "      <td>True</td>\n",
       "    </tr>\n",
       "    <tr>\n",
       "      <th>12</th>\n",
       "      <td>&lt;i class=\"supplier-icon ui2-icon-svg ui2-icon-...</td>\n",
       "      <td>Luxury exterior teak wood designs solid wooden...</td>\n",
       "      <td>Guangzhou Xinzhijia Home Building Material Co....</td>\n",
       "      <td>NaN</td>\n",
       "      <td>1</td>\n",
       "      <td>True</td>\n",
       "    </tr>\n",
       "    <tr>\n",
       "      <th>14</th>\n",
       "      <td>&lt;i class=\"supplier-icon ui2-icon-svg ui2-icon-...</td>\n",
       "      <td>Mahogany 6 panel luxury interior solid wood be...</td>\n",
       "      <td>Tianjin Zhaoqiang Wood Industry Co., Ltd.</td>\n",
       "      <td>NaN</td>\n",
       "      <td>1</td>\n",
       "      <td>True</td>\n",
       "    </tr>\n",
       "  </tbody>\n",
       "</table>\n",
       "</div>"
      ],
      "text/plain": [
       "                                                 gold  \\\n",
       "2   <i class=\"supplier-icon ui2-icon-svg ui2-icon-...   \n",
       "4   <i class=\"supplier-icon ui2-icon-svg ui2-icon-...   \n",
       "10  <i class=\"supplier-icon ui2-icon-svg ui2-icon-...   \n",
       "12  <i class=\"supplier-icon ui2-icon-svg ui2-icon-...   \n",
       "14  <i class=\"supplier-icon ui2-icon-svg ui2-icon-...   \n",
       "\n",
       "                                              product  \\\n",
       "2   Euro standard Israel market anti-dust waterpro...   \n",
       "4   Top Quality And Cheap Interior Wooden Door Mdf...   \n",
       "10  UK internal white primer hdf molded 4 panel ho...   \n",
       "12  Luxury exterior teak wood designs solid wooden...   \n",
       "14  Mahogany 6 panel luxury interior solid wood be...   \n",
       "\n",
       "                                             supplier  years  goldbinary  \\\n",
       "2                   Wenzhou Tianxi Hardware Co., Ltd.    NaN           1   \n",
       "4          GUANGDONG GEGUAN DOORS & WINDOWS CO., LTD.    NaN           1   \n",
       "10            Shouguang Runze Wood Industry Co., Ltd.    NaN           1   \n",
       "12  Guangzhou Xinzhijia Home Building Material Co....    NaN           1   \n",
       "14          Tianjin Zhaoqiang Wood Industry Co., Ltd.    NaN           1   \n",
       "\n",
       "    goldtrue  \n",
       "2       True  \n",
       "4       True  \n",
       "10      True  \n",
       "12      True  \n",
       "14      True  "
      ]
     },
     "execution_count": 59,
     "metadata": {},
     "output_type": "execute_result"
    }
   ],
   "source": [
    "goldf.head()"
   ]
  },
  {
   "cell_type": "code",
   "execution_count": 61,
   "metadata": {},
   "outputs": [
    {
     "name": "stdout",
     "output_type": "stream",
     "text": [
      "<class 'pandas.core.frame.DataFrame'>\n",
      "Int64Index: 959 entries, 2 to 3589\n",
      "Data columns (total 6 columns):\n",
      "gold          959 non-null object\n",
      "product       959 non-null object\n",
      "supplier      959 non-null object\n",
      "years         0 non-null float64\n",
      "goldbinary    959 non-null int64\n",
      "goldtrue      959 non-null bool\n",
      "dtypes: bool(1), float64(1), int64(1), object(3)\n",
      "memory usage: 45.9+ KB\n"
     ]
    }
   ],
   "source": [
    "goldf.info()"
   ]
  },
  {
   "cell_type": "code",
   "execution_count": 99,
   "metadata": {},
   "outputs": [],
   "source": [
    "golddf2 = pd.DataFrame()\n",
    "golddf2['product'] = goldf['product']\n",
    "golddf2['supplier'] = goldf['supplier']\n",
    "golddf2['goldtrue'] = goldf['goldtrue']"
   ]
  },
  {
   "cell_type": "code",
   "execution_count": 102,
   "metadata": {},
   "outputs": [
    {
     "data": {
      "text/html": [
       "<div>\n",
       "<style scoped>\n",
       "    .dataframe tbody tr th:only-of-type {\n",
       "        vertical-align: middle;\n",
       "    }\n",
       "\n",
       "    .dataframe tbody tr th {\n",
       "        vertical-align: top;\n",
       "    }\n",
       "\n",
       "    .dataframe thead th {\n",
       "        text-align: right;\n",
       "    }\n",
       "</style>\n",
       "<table border=\"1\" class=\"dataframe\">\n",
       "  <thead>\n",
       "    <tr style=\"text-align: right;\">\n",
       "      <th></th>\n",
       "      <th>product</th>\n",
       "      <th>supplier</th>\n",
       "      <th>goldtrue</th>\n",
       "    </tr>\n",
       "  </thead>\n",
       "  <tbody>\n",
       "    <tr>\n",
       "      <th>2</th>\n",
       "      <td>Euro standard Israel market anti-dust waterpro...</td>\n",
       "      <td>Wenzhou Tianxi Hardware Co., Ltd.</td>\n",
       "      <td>True</td>\n",
       "    </tr>\n",
       "    <tr>\n",
       "      <th>4</th>\n",
       "      <td>Top Quality And Cheap Interior Wooden Door Mdf...</td>\n",
       "      <td>GUANGDONG GEGUAN DOORS &amp; WINDOWS CO., LTD.</td>\n",
       "      <td>True</td>\n",
       "    </tr>\n",
       "    <tr>\n",
       "      <th>10</th>\n",
       "      <td>UK internal white primer hdf molded 4 panel ho...</td>\n",
       "      <td>Shouguang Runze Wood Industry Co., Ltd.</td>\n",
       "      <td>True</td>\n",
       "    </tr>\n",
       "    <tr>\n",
       "      <th>12</th>\n",
       "      <td>Luxury exterior teak wood designs solid wooden...</td>\n",
       "      <td>Guangzhou Xinzhijia Home Building Material Co....</td>\n",
       "      <td>True</td>\n",
       "    </tr>\n",
       "    <tr>\n",
       "      <th>14</th>\n",
       "      <td>Mahogany 6 panel luxury interior solid wood be...</td>\n",
       "      <td>Tianjin Zhaoqiang Wood Industry Co., Ltd.</td>\n",
       "      <td>True</td>\n",
       "    </tr>\n",
       "  </tbody>\n",
       "</table>\n",
       "</div>"
      ],
      "text/plain": [
       "                                              product  \\\n",
       "2   Euro standard Israel market anti-dust waterpro...   \n",
       "4   Top Quality And Cheap Interior Wooden Door Mdf...   \n",
       "10  UK internal white primer hdf molded 4 panel ho...   \n",
       "12  Luxury exterior teak wood designs solid wooden...   \n",
       "14  Mahogany 6 panel luxury interior solid wood be...   \n",
       "\n",
       "                                             supplier  goldtrue  \n",
       "2                   Wenzhou Tianxi Hardware Co., Ltd.      True  \n",
       "4          GUANGDONG GEGUAN DOORS & WINDOWS CO., LTD.      True  \n",
       "10            Shouguang Runze Wood Industry Co., Ltd.      True  \n",
       "12  Guangzhou Xinzhijia Home Building Material Co....      True  \n",
       "14          Tianjin Zhaoqiang Wood Industry Co., Ltd.      True  "
      ]
     },
     "execution_count": 102,
     "metadata": {},
     "output_type": "execute_result"
    }
   ],
   "source": [
    "golddf2.head()"
   ]
  },
  {
   "cell_type": "code",
   "execution_count": 104,
   "metadata": {},
   "outputs": [],
   "source": [
    "golddf2.to_excel(excel_writer='/Users/swang/scrapy_alibaba/allgoldproducts2.xlsx')"
   ]
  },
  {
   "cell_type": "code",
   "execution_count": 62,
   "metadata": {},
   "outputs": [
    {
     "name": "stdout",
     "output_type": "stream",
     "text": [
      "<class 'pandas.core.frame.DataFrame'>\n",
      "RangeIndex: 3599 entries, 0 to 3598\n",
      "Data columns (total 6 columns):\n",
      "gold          3599 non-null object\n",
      "product       3599 non-null object\n",
      "supplier      3599 non-null object\n",
      "years         0 non-null float64\n",
      "goldbinary    3599 non-null int64\n",
      "goldtrue      3599 non-null bool\n",
      "dtypes: bool(1), float64(1), int64(1), object(3)\n",
      "memory usage: 144.2+ KB\n"
     ]
    }
   ],
   "source": [
    "df.info()"
   ]
  },
  {
   "cell_type": "code",
   "execution_count": 63,
   "metadata": {},
   "outputs": [],
   "source": [
    "golddf = df[df.goldtrue==1]"
   ]
  },
  {
   "cell_type": "code",
   "execution_count": 64,
   "metadata": {},
   "outputs": [
    {
     "name": "stdout",
     "output_type": "stream",
     "text": [
      "<class 'pandas.core.frame.DataFrame'>\n",
      "Int64Index: 959 entries, 2 to 3589\n",
      "Data columns (total 6 columns):\n",
      "gold          959 non-null object\n",
      "product       959 non-null object\n",
      "supplier      959 non-null object\n",
      "years         0 non-null float64\n",
      "goldbinary    959 non-null int64\n",
      "goldtrue      959 non-null bool\n",
      "dtypes: bool(1), float64(1), int64(1), object(3)\n",
      "memory usage: 45.9+ KB\n"
     ]
    }
   ],
   "source": [
    "golddf.info()"
   ]
  },
  {
   "cell_type": "code",
   "execution_count": 71,
   "metadata": {},
   "outputs": [],
   "source": [
    "uniquegoldsupplier = golddf.groupby('supplier').nunique()"
   ]
  },
  {
   "cell_type": "code",
   "execution_count": 73,
   "metadata": {},
   "outputs": [
    {
     "name": "stdout",
     "output_type": "stream",
     "text": [
      "<class 'pandas.core.frame.DataFrame'>\n",
      "Index: 336 entries, A.M.Souz to Zhuhai Hongyue Building Materials Co., Ltd.\n",
      "Data columns (total 6 columns):\n",
      "gold          336 non-null int64\n",
      "product       336 non-null int64\n",
      "supplier      336 non-null int64\n",
      "years         336 non-null int64\n",
      "goldbinary    336 non-null int64\n",
      "goldtrue      336 non-null int64\n",
      "dtypes: int64(6)\n",
      "memory usage: 18.4+ KB\n"
     ]
    }
   ],
   "source": [
    "uniquegoldsupplier.info()"
   ]
  },
  {
   "cell_type": "code",
   "execution_count": 74,
   "metadata": {},
   "outputs": [],
   "source": [
    "uniqueallsupplier = df.groupby('supplier').nunique()"
   ]
  },
  {
   "cell_type": "code",
   "execution_count": 75,
   "metadata": {},
   "outputs": [
    {
     "name": "stdout",
     "output_type": "stream",
     "text": [
      "<class 'pandas.core.frame.DataFrame'>\n",
      "Index: 447 entries, A.M.Souz to Zhuhai Hongyue Building Materials Co., Ltd.\n",
      "Data columns (total 6 columns):\n",
      "gold          447 non-null int64\n",
      "product       447 non-null int64\n",
      "supplier      447 non-null int64\n",
      "years         447 non-null int64\n",
      "goldbinary    447 non-null int64\n",
      "goldtrue      447 non-null int64\n",
      "dtypes: int64(6)\n",
      "memory usage: 24.4+ KB\n"
     ]
    }
   ],
   "source": [
    "uniqueallsupplier.info()"
   ]
  },
  {
   "cell_type": "code",
   "execution_count": 79,
   "metadata": {},
   "outputs": [],
   "source": [
    "uniqueallsupplier.supplier.to_excel(excel_writer='/Users/swang/scrapy_alibaba/uniqueallsupplier.xlsx')"
   ]
  },
  {
   "cell_type": "code",
   "execution_count": 80,
   "metadata": {},
   "outputs": [],
   "source": [
    "uniquegoldsupplier.supplier.to_excel(excel_writer='/Users/swang/scrapy_alibaba/uniquegoldsupplier.xlsx')"
   ]
  },
  {
   "cell_type": "code",
   "execution_count": null,
   "metadata": {},
   "outputs": [],
   "source": []
  }
 ],
 "metadata": {
  "kernelspec": {
   "display_name": "Python 3",
   "language": "python",
   "name": "python3"
  },
  "language_info": {
   "codemirror_mode": {
    "name": "ipython",
    "version": 3
   },
   "file_extension": ".py",
   "mimetype": "text/x-python",
   "name": "python",
   "nbconvert_exporter": "python",
   "pygments_lexer": "ipython3",
   "version": "3.7.3"
  }
 },
 "nbformat": 4,
 "nbformat_minor": 4
}
